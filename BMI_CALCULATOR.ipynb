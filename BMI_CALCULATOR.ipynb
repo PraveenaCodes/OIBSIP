{
 "cells": [
  {
   "cell_type": "code",
   "execution_count": 1,
   "id": "a2f0de80-e00c-4885-971c-ddf4012087bd",
   "metadata": {},
   "outputs": [
    {
     "name": "stdin",
     "output_type": "stream",
     "text": [
      "Enter your name: ALia\n",
      "Enter your weight in kilograms: 90\n",
      "Enter your height in centimeters: 173\n"
     ]
    },
    {
     "name": "stdout",
     "output_type": "stream",
     "text": [
      "Your Body Mass Index is 30.071168431955627\n",
      "ALia, jeez! You are obese.\n"
     ]
    }
   ],
   "source": [
    "name = input(\"Enter your name:\") #Prompts the user to enter their name.\n",
    "                                 #Stores the input as a string in the variable name.\n",
    "\n",
    "weight = float(input(\"Enter your weight in kilograms:\"))#Asks the user to enter their weight in kilograms.\n",
    "                                                       #Uses float() to ensure the input is stored as a decimal number.\n",
    "\n",
    "height = float(input(\"Enter your height in centimeters:\")) #Asks the user to enter their height in centimeters.\n",
    "                                                           #Uses float() so the user can enter decimal values if needed.\n",
    "BMI = weight / ((height / 100) ** 2)  \n",
    "\n",
    "print(\"Your Body Mass Index is\",BMI)#Uses an f-string (f\"\") to print the BMI.\n",
    "                                   #{BMI:.2f} rounds the BMI value to 2 decimal places.\n",
    "if BMI>0: #Ensures the BMI is positive before proceeding.\n",
    "    if(BMI<18.5):\n",
    "        print(name +\", Oops! You are underweight.\") #If BMI is less than 18.5, the person is underweight.\n",
    "    elif(BMI<24.9):\n",
    "        print(name +\", Awesome! You are normal weight.\") #If BMI is between 18.5 and 24.9, the person has a normal weight.\n",
    "    elif(BMI<=29.9):\n",
    "        print(name +\", Eww! You are over weight.\") #If BMI is between 25.0 and 29.9, the person is overweight.\n",
    "    elif(BMI<34.9):\n",
    "        print(name +\", jeez! You are obese.\") #If BMI is between 30.0 and 34.9, the person is obese.\n",
    "    elif(BMI<39.9):\n",
    "        print(name +\", You are severely  obese.\") #If BMI is between 35.0 and 39.9, the person is severely obese.\n",
    "    else:\n",
    "        print(name +\",You are morbidly obese.\") #If BMI is 40 or higher, the person is morbidly obese.\n",
    "else:\n",
    "    print(\"Enter valid input\") #If BMI is not positive, it asks the user to enter valid values.\n"
   ]
  },
  {
   "cell_type": "code",
   "execution_count": null,
   "id": "20a6fac9-8aef-403e-aef1-cb115755af25",
   "metadata": {},
   "outputs": [],
   "source": []
  }
 ],
 "metadata": {
  "kernelspec": {
   "display_name": "Python [conda env:base] *",
   "language": "python",
   "name": "conda-base-py"
  },
  "language_info": {
   "codemirror_mode": {
    "name": "ipython",
    "version": 3
   },
   "file_extension": ".py",
   "mimetype": "text/x-python",
   "name": "python",
   "nbconvert_exporter": "python",
   "pygments_lexer": "ipython3",
   "version": "3.12.7"
  }
 },
 "nbformat": 4,
 "nbformat_minor": 5
}
